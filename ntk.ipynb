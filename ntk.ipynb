{
 "cells": [
  {
   "cell_type": "code",
   "execution_count": 271,
   "id": "b2861a37-4958-48ad-8ef4-f9b35ef5d702",
   "metadata": {},
   "outputs": [
    {
     "name": "stdout",
     "output_type": "stream",
     "text": [
      "TwoLayerModel(\n",
      "  (layer1): Linear(in_features=10, out_features=5, bias=False)\n",
      "  (layer2): Linear(in_features=5, out_features=3, bias=False)\n",
      ")\n"
     ]
    }
   ],
   "source": [
    "import torch\n",
    "import torch.nn as nn\n",
    "import torch.optim as optim\n",
    "\n",
    "# Define the model\n",
    "class TwoLayerModel(nn.Module):\n",
    "    def __init__(self, input_size, hidden_size, output_size):\n",
    "        super(TwoLayerModel, self).__init__()\n",
    "        self.layer1 = nn.Linear(input_size, hidden_size, bias=False)\n",
    "        self.layer2 = nn.Linear(hidden_size, output_size, bias=False)\n",
    "    \n",
    "    def forward(self, x):\n",
    "        x = self.layer1(x)\n",
    "        x = self.layer2(x)\n",
    "        return x\n",
    "\n",
    "# Example usage\n",
    "input_size = 10\n",
    "hidden_size = 5\n",
    "output_size = 3\n",
    "\n",
    "model = TwoLayerModel(input_size, hidden_size, output_size)\n",
    "print(model)\n",
    "\n",
    "model = TwoLayerModel(input_size, hidden_size, output_size)\n",
    "\n",
    "# Generate some dummy data\n",
    "inputs1 = torch.randn(1, input_size)\n",
    "inputs2 = torch.randn(1, input_size)\n",
    "inputs = torch.cat([inputs1, inputs2], dim=0)"
   ]
  },
  {
   "cell_type": "code",
   "execution_count": 272,
   "id": "dad6e17e-e8aa-4714-928c-f7586935dcf3",
   "metadata": {},
   "outputs": [
    {
     "name": "stdout",
     "output_type": "stream",
     "text": [
      "tensor([11.3608,  9.1758,  7.1037])\n"
     ]
    }
   ],
   "source": [
    "# compute ntk with torch for sanity\n",
    "from functorch import make_functional, vmap, vjp, jvp, jacrev\n",
    "fnet, params = make_functional(model)\n",
    "def fnet_single(params, x):\n",
    "    return fnet(params, x.unsqueeze(0)).squeeze(0)\n",
    "def empirical_ntk_jacobian_contraction(fnet_single, params, x1, x2):\n",
    "    # Compute J(x1)\n",
    "    jac1 = vmap(jacrev(fnet_single), (None, 0))(params, x1)\n",
    "    jac1 = [j.flatten(2) for j in jac1]\n",
    "    \n",
    "    # Compute J(x2)\n",
    "    jac2 = vmap(jacrev(fnet_single), (None, 0))(params, x2)\n",
    "    jac2 = [j.flatten(2) for j in jac2]\n",
    "    \n",
    "    # Compute J(x1) @ J(x2).T\n",
    "    result = torch.stack([torch.einsum('Naf,Mbf->NMab', j1, j2) for j1, j2 in zip(jac1, jac2)])\n",
    "    result = result.sum(0)\n",
    "    return result\n",
    "\n",
    "ntk_matrix = empirical_ntk_jacobian_contraction(fnet_single, params, inputs, inputs)\n",
    "ntk_matrix = torch.einsum('abij->aibj', ntk_matrix).reshape(output_size*2, output_size*2).detach()\n",
    "ntk_eigenvalues = torch.linalg.eigvalsh(ntk_matrix).sort(descending=True).values[:3]\n",
    "print(ntk_eigenvalues) # from torch computing the ntk matrix"
   ]
  },
  {
   "cell_type": "code",
   "execution_count": 273,
   "id": "f1320c11-a04f-4a72-9d42-d06966f76647",
   "metadata": {},
   "outputs": [
    {
     "name": "stdout",
     "output_type": "stream",
     "text": [
      "tensor([11.3608,  9.1758,  7.1037])\n"
     ]
    }
   ],
   "source": [
    "ntk_eigenvalues = kernel_eigenvalues(model, inputs, cross_entropy=False, print_progress=False, top_n=3, tol=1e-6)\n",
    "ntk_eigenvalues = torch.stack([torch.tensor(x.item()) for x in ntk_eigenvalues])\n",
    "print(ntk_eigenvalues) # from the library"
   ]
  },
  {
   "cell_type": "code",
   "execution_count": null,
   "id": "a3ce3332-bd74-4790-ab90-c6fc3ee951fc",
   "metadata": {},
   "outputs": [],
   "source": []
  },
  {
   "cell_type": "code",
   "execution_count": null,
   "id": "c72db3b4-90d3-49e8-ba89-62168ddf2c1b",
   "metadata": {},
   "outputs": [],
   "source": []
  }
 ],
 "metadata": {
  "kernelspec": {
   "display_name": "Python 3 (ipykernel)",
   "language": "python",
   "name": "python3"
  },
  "language_info": {
   "codemirror_mode": {
    "name": "ipython",
    "version": 3
   },
   "file_extension": ".py",
   "mimetype": "text/x-python",
   "name": "python",
   "nbconvert_exporter": "python",
   "pygments_lexer": "ipython3",
   "version": "3.10.14"
  }
 },
 "nbformat": 4,
 "nbformat_minor": 5
}
