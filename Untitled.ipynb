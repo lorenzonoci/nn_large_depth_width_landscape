{
 "cells": [
  {
   "cell_type": "code",
   "execution_count": 164,
   "id": "17faff07-3a24-480d-854f-396e26b2bd0a",
   "metadata": {},
   "outputs": [
    {
     "name": "stdout",
     "output_type": "stream",
     "text": [
      "Top 10 eigenvalues of the Hessian matrix: [6.045412063598633, 5.936735153198242, 5.620837688446045, 5.510869979858398]\n"
     ]
    }
   ],
   "source": [
    "# Install pyhessian (if not already installed)\n",
    "import torch\n",
    "import torch.nn as nn\n",
    "import torch.optim as optim\n",
    "from pyhessian import hessian\n",
    "from pyhessian.utils import get_params_grad\n",
    "\n",
    "# Define a simple MLP (same as above)\n",
    "class MLP(nn.Module):\n",
    "    def __init__(self, input_size, hidden_size, output_size):\n",
    "        super(MLP, self).__init__()\n",
    "        self.fc1 = nn.Linear(input_size, hidden_size, bias=False)\n",
    "        self.fc3 = nn.Linear(hidden_size, output_size, bias=False)\n",
    "        self.relu = nn.ReLU()\n",
    "\n",
    "    def forward(self, x):\n",
    "        x = self.relu(self.fc1(x))\n",
    "        x = self.fc3(x)\n",
    "        return x\n",
    "\n",
    "# Example usage\n",
    "input_size = 784  # For example, for MNIST dataset\n",
    "hidden_size = 1024\n",
    "output_size = 10\n",
    "\n",
    "model = MLP(input_size, hidden_size, output_size).cuda()\n",
    "\n",
    "# Dummy data\n",
    "x = torch.randn(1024, input_size).cuda()\n",
    "y = torch.randint(0, output_size, (1024,)).cuda()\n",
    "inputs = x\n",
    "targets = y\n",
    "# Loss function\n",
    "criterion = nn.CrossEntropyLoss()\n",
    "\n",
    "# Optimizer\n",
    "optimizer = optim.SGD(model.parameters(), lr=0.01)\n",
    "\n",
    "# Forward pass\n",
    "output = model(x)\n",
    "loss = criterion(output, y)\n",
    "\n",
    "# Backward pass\n",
    "optimizer.zero_grad()\n",
    "loss.backward()\n",
    "# optimizer.step()\n",
    "\n",
    "# Calculate the Hessian and its top eigenvalues\n",
    "hessian_comp = hessian(model, criterion, data=(x, y), cuda=True)\n",
    "top_eigenvalues, top_eigenvectors = hessian_comp.eigenvalues(top_n=4)\n",
    "\n",
    "print(\"Top 10 eigenvalues of the Hessian matrix:\", top_eigenvalues)\n",
    "\n",
    "# Compute the gradient\n",
    "gradients = get_params_grad(model)"
   ]
  },
  {
   "cell_type": "code",
   "execution_count": 188,
   "id": "a51cff80-86c2-4d10-bc04-897425fbf9a2",
   "metadata": {},
   "outputs": [],
   "source": [
    "def get_projected_gradients(gradient, eigenvectors):\n",
    "    g_proj = torch.tensor([gradient@eigenv for eigenv in eigenvectors]).to(\"cuda\")\n",
    "    return g_proj\n",
    "    \n",
    "def process_eigenvectors(eigenvectors):\n",
    "    es = []\n",
    "    for e in eigenvectors:\n",
    "        ne = torch.cat([v.flatten() for v in e], dim=0) # get each eigenvector of size n_parameters\n",
    "        es.append(ne)\n",
    "    return es\n",
    "def top_k_hessian_alignment(projected_gradients, gradients, k):\n",
    "    projected_gradients = projected_gradients[:k]\n",
    "    dir_sharp = projected_gradients@projected_gradients / gradients.norm()**2\n",
    "    \n",
    "    return dir_sharp.item()\n",
    "\n",
    "def process_gradients(grads):\n",
    "    grads = [g.flatten() for g in grads]\n",
    "    return torch.cat(grads, dim=0)"
   ]
  },
  {
   "cell_type": "code",
   "execution_count": 200,
   "id": "2afcdc06-df79-472c-a1fc-d927de161522",
   "metadata": {},
   "outputs": [],
   "source": [
    "ks = [1, 2, 5]\n",
    "kmax = max(ks)\n",
    "hessian_comp = hessian(model, criterion, data=(inputs, targets), cuda=True)\n",
    "gs = process_gradients(hessian_comp.gradsH)\n",
    "top_eigenvalues, top_eigenvectors = hessian_comp.eigenvalues(top_n=kmax, maxIter=1000, tol=1e-6) \n",
    "top_eigenvectors = process_eigenvectors(top_eigenvectors)\n",
    "proj_g = get_projected_gradients(gs, top_eigenvectors)"
   ]
  },
  {
   "cell_type": "code",
   "execution_count": 201,
   "id": "9f33707e-08d1-4bfb-8e78-4d6d78afb09b",
   "metadata": {},
   "outputs": [
    {
     "data": {
      "text/plain": [
       "[6.134904384613037,\n",
       " 5.89288854598999,\n",
       " 5.671705722808838,\n",
       " 5.594947814941406,\n",
       " 5.48469352722168]"
      ]
     },
     "execution_count": 201,
     "metadata": {},
     "output_type": "execute_result"
    }
   ],
   "source": [
    "top_eigenvalues"
   ]
  },
  {
   "cell_type": "code",
   "execution_count": 193,
   "id": "afb1ced7-34ee-42fe-aa56-1b58903f4829",
   "metadata": {},
   "outputs": [
    {
     "data": {
      "text/plain": [
       "[tensor([9.5275e-05, 1.3720e-05, 6.4385e-05,  ..., 1.0472e-03, 1.1759e-03,\n",
       "         9.7791e-04], device='cuda:0'),\n",
       " tensor([ 8.2209e-05,  8.1544e-05, -1.3706e-04,  ...,  1.2942e-03,\n",
       "          1.5109e-03,  1.1640e-03], device='cuda:0'),\n",
       " tensor([ 2.9659e-05,  5.5363e-05, -1.0326e-04,  ..., -1.8919e-04,\n",
       "         -1.0706e-04, -1.4825e-04], device='cuda:0'),\n",
       " tensor([-1.4612e-05,  1.6542e-05, -2.6401e-05,  ...,  1.1904e-03,\n",
       "          1.2793e-03,  1.1327e-03], device='cuda:0'),\n",
       " tensor([ 5.0928e-05,  3.2958e-05, -8.1254e-05,  ...,  1.1652e-03,\n",
       "          1.2562e-03,  1.1057e-03], device='cuda:0')]"
      ]
     },
     "execution_count": 193,
     "metadata": {},
     "output_type": "execute_result"
    }
   ],
   "source": [
    "top_eigenvectors"
   ]
  },
  {
   "cell_type": "code",
   "execution_count": 184,
   "id": "a9c69ae9-c09d-4410-aa1f-23e30e85a9ef",
   "metadata": {},
   "outputs": [
    {
     "data": {
      "text/plain": [
       "0.026163375005126"
      ]
     },
     "execution_count": 184,
     "metadata": {},
     "output_type": "execute_result"
    }
   ],
   "source": [
    "top_k_hessian_alignment(proj_g, gs, kmax)"
   ]
  },
  {
   "cell_type": "code",
   "execution_count": null,
   "id": "78efa047-6aa5-497d-9d63-b75e230343be",
   "metadata": {},
   "outputs": [],
   "source": []
  }
 ],
 "metadata": {
  "kernelspec": {
   "display_name": "Python 3 (ipykernel)",
   "language": "python",
   "name": "python3"
  },
  "language_info": {
   "codemirror_mode": {
    "name": "ipython",
    "version": 3
   },
   "file_extension": ".py",
   "mimetype": "text/x-python",
   "name": "python",
   "nbconvert_exporter": "python",
   "pygments_lexer": "ipython3",
   "version": "3.10.14"
  }
 },
 "nbformat": 4,
 "nbformat_minor": 5
}
